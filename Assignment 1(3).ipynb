{
 "cells": [
  {
   "cell_type": "code",
   "execution_count": 1,
   "id": "82658d1e",
   "metadata": {},
   "outputs": [],
   "source": [
    "import numpy as np\n",
    "import pandas as pd\n",
    "import warnings\n",
    "\n",
    "warnings.filterwarnings('ignore')"
   ]
  },
  {
   "cell_type": "markdown",
   "id": "246dc070",
   "metadata": {},
   "source": [
    "# Q1"
   ]
  },
  {
   "cell_type": "code",
   "execution_count": 2,
   "id": "c138fe22",
   "metadata": {},
   "outputs": [
    {
     "data": {
      "text/html": [
       "<div>\n",
       "<style scoped>\n",
       "    .dataframe tbody tr th:only-of-type {\n",
       "        vertical-align: middle;\n",
       "    }\n",
       "\n",
       "    .dataframe tbody tr th {\n",
       "        vertical-align: top;\n",
       "    }\n",
       "\n",
       "    .dataframe thead th {\n",
       "        text-align: right;\n",
       "    }\n",
       "</style>\n",
       "<table border=\"1\" class=\"dataframe\">\n",
       "  <thead>\n",
       "    <tr style=\"text-align: right;\">\n",
       "      <th></th>\n",
       "      <th>purchase_TF</th>\n",
       "      <th>Variant</th>\n",
       "      <th>date</th>\n",
       "      <th>id</th>\n",
       "    </tr>\n",
       "  </thead>\n",
       "  <tbody>\n",
       "    <tr>\n",
       "      <th>0</th>\n",
       "      <td>False</td>\n",
       "      <td>A</td>\n",
       "      <td>2019-11-08</td>\n",
       "      <td>0x25b44a</td>\n",
       "    </tr>\n",
       "    <tr>\n",
       "      <th>1</th>\n",
       "      <td>False</td>\n",
       "      <td>B</td>\n",
       "      <td>2020-08-27</td>\n",
       "      <td>0x46271e</td>\n",
       "    </tr>\n",
       "    <tr>\n",
       "      <th>2</th>\n",
       "      <td>False</td>\n",
       "      <td>A</td>\n",
       "      <td>2020-06-11</td>\n",
       "      <td>0x80b8f1</td>\n",
       "    </tr>\n",
       "    <tr>\n",
       "      <th>3</th>\n",
       "      <td>False</td>\n",
       "      <td>B</td>\n",
       "      <td>2020-08-22</td>\n",
       "      <td>0x8d736d</td>\n",
       "    </tr>\n",
       "    <tr>\n",
       "      <th>4</th>\n",
       "      <td>False</td>\n",
       "      <td>A</td>\n",
       "      <td>2020-08-05</td>\n",
       "      <td>0x96c9c8</td>\n",
       "    </tr>\n",
       "  </tbody>\n",
       "</table>\n",
       "</div>"
      ],
      "text/plain": [
       "   purchase_TF Variant        date        id\n",
       "0        False       A  2019-11-08  0x25b44a\n",
       "1        False       B  2020-08-27  0x46271e\n",
       "2        False       A  2020-06-11  0x80b8f1\n",
       "3        False       B  2020-08-22  0x8d736d\n",
       "4        False       A  2020-08-05  0x96c9c8"
      ]
     },
     "execution_count": 2,
     "metadata": {},
     "output_type": "execute_result"
    }
   ],
   "source": [
    "df = pd.read_csv('AB_test_data.csv')\n",
    "df.head()"
   ]
  },
  {
   "cell_type": "code",
   "execution_count": 3,
   "id": "edc5ed0c",
   "metadata": {},
   "outputs": [],
   "source": [
    "df['date'] = pd.to_datetime(df['date'])"
   ]
  },
  {
   "cell_type": "code",
   "execution_count": 4,
   "id": "ee9985cf",
   "metadata": {},
   "outputs": [
    {
     "data": {
      "text/plain": [
       "False    110415\n",
       "True      19585\n",
       "Name: purchase_TF, dtype: int64"
      ]
     },
     "execution_count": 4,
     "metadata": {},
     "output_type": "execute_result"
    }
   ],
   "source": [
    "df['purchase_TF'].value_counts()"
   ]
  },
  {
   "cell_type": "code",
   "execution_count": 5,
   "id": "54ff888b",
   "metadata": {},
   "outputs": [
    {
     "data": {
      "text/html": [
       "<div>\n",
       "<style scoped>\n",
       "    .dataframe tbody tr th:only-of-type {\n",
       "        vertical-align: middle;\n",
       "    }\n",
       "\n",
       "    .dataframe tbody tr th {\n",
       "        vertical-align: top;\n",
       "    }\n",
       "\n",
       "    .dataframe thead th {\n",
       "        text-align: right;\n",
       "    }\n",
       "</style>\n",
       "<table border=\"1\" class=\"dataframe\">\n",
       "  <thead>\n",
       "    <tr style=\"text-align: right;\">\n",
       "      <th></th>\n",
       "      <th>purchase_TF</th>\n",
       "      <th>total</th>\n",
       "      <th>rate</th>\n",
       "      <th>std</th>\n",
       "    </tr>\n",
       "    <tr>\n",
       "      <th>Variant</th>\n",
       "      <th></th>\n",
       "      <th></th>\n",
       "      <th></th>\n",
       "      <th></th>\n",
       "    </tr>\n",
       "  </thead>\n",
       "  <tbody>\n",
       "    <tr>\n",
       "      <th>A</th>\n",
       "      <td>18702</td>\n",
       "      <td>125000</td>\n",
       "      <td>0.149616</td>\n",
       "      <td>0.356696</td>\n",
       "    </tr>\n",
       "    <tr>\n",
       "      <th>B</th>\n",
       "      <td>883</td>\n",
       "      <td>5000</td>\n",
       "      <td>0.176600</td>\n",
       "      <td>0.381368</td>\n",
       "    </tr>\n",
       "  </tbody>\n",
       "</table>\n",
       "</div>"
      ],
      "text/plain": [
       "         purchase_TF   total      rate       std\n",
       "Variant                                         \n",
       "A              18702  125000  0.149616  0.356696\n",
       "B                883    5000  0.176600  0.381368"
      ]
     },
     "execution_count": 5,
     "metadata": {},
     "output_type": "execute_result"
    }
   ],
   "source": [
    "summary = df.iloc[:, [0, 1, 2]].pivot_table(values='purchase_TF', index='Variant', aggfunc=np.sum)\n",
    "summary['total'] = df.pivot_table(values='purchase_TF', index='Variant', aggfunc=lambda x: len(x))\n",
    "summary['rate'] = summary.iloc[:, 0]/summary.iloc[:, 1]\n",
    "summary['std'] = df.iloc[:, [0, 1, 2]].pivot_table(values='purchase_TF', index='Variant', aggfunc=np.std)\n",
    "summary"
   ]
  },
  {
   "cell_type": "markdown",
   "id": "dca92e48",
   "metadata": {},
   "source": [
    "## Hypothesis Test"
   ]
  },
  {
   "cell_type": "code",
   "execution_count": 6,
   "id": "e255f35a",
   "metadata": {},
   "outputs": [],
   "source": [
    "from statsmodels.stats.proportion import proportions_ztest, proportion_confint"
   ]
  },
  {
   "cell_type": "code",
   "execution_count": 7,
   "id": "2ba44a9e",
   "metadata": {},
   "outputs": [
    {
     "name": "stdout",
     "output_type": "stream",
     "text": [
      "z statistic: -5.23\n",
      "p-value: 0.000\n",
      "ci 95% for control group: [0.148, 0.152]\n",
      "ci 95% for treatment group: [0.166, 0.187]\n"
     ]
    }
   ],
   "source": [
    "from statsmodels.stats.proportion import proportions_ztest, proportion_confint\n",
    "control_results = df[df['Variant'] == 'A']['purchase_TF']\n",
    "treatment_results = df[df['Variant'] == 'B']['purchase_TF']\n",
    "n_con = control_results.count()\n",
    "n_treat = treatment_results.count()\n",
    "successes = [control_results.sum(), treatment_results.sum()]\n",
    "nobs = [n_con, n_treat]\n",
    "\n",
    "z_stat, pval = proportions_ztest(successes, nobs=nobs)\n",
    "(lower_con, lower_treat), (upper_con, upper_treat) = proportion_confint(successes, nobs=nobs, alpha=0.05)\n",
    "\n",
    "print(f'z statistic: {z_stat:.2f}')\n",
    "print(f'p-value: {pval:.3f}')\n",
    "print(f'ci 95% for control group: [{lower_con:.3f}, {upper_con:.3f}]')\n",
    "print(f'ci 95% for treatment group: [{lower_treat:.3f}, {upper_treat:.3f}]')"
   ]
  },
  {
   "cell_type": "markdown",
   "id": "e306b715",
   "metadata": {},
   "source": [
    "# Q2\n",
    "## Optimal Sample Size"
   ]
  },
  {
   "cell_type": "code",
   "execution_count": 8,
   "id": "5b332178",
   "metadata": {},
   "outputs": [
    {
     "name": "stdout",
     "output_type": "stream",
     "text": [
      "1.959963984540054 0.8416212335729143\n"
     ]
    }
   ],
   "source": [
    "import scipy.stats as stats\n",
    "\n",
    "t_alpha = stats.norm.ppf(1-0.05/2)\n",
    "t_beta = stats.norm.ppf(1-0.2)\n",
    "print(t_alpha, t_beta)"
   ]
  },
  {
   "cell_type": "code",
   "execution_count": 9,
   "id": "6605ec97",
   "metadata": {},
   "outputs": [
    {
     "data": {
      "text/plain": [
       "2942"
      ]
     },
     "execution_count": 9,
     "metadata": {},
     "output_type": "execute_result"
    }
   ],
   "source": [
    "# Calculate optimal sample size\n",
    "rate_avg = summary['rate'].mean()\n",
    "rate_A = summary['rate'][0]\n",
    "rate_B = summary['rate'][1]\n",
    "\n",
    "Var_avg = rate_avg * (1-rate_avg)\n",
    "Var_A = rate_A * (1-rate_A)\n",
    "Var_B = rate_B * (1-rate_B)\n",
    "\n",
    "diff = abs(rate_A - rate_B)\n",
    "\n",
    "N = 1/diff**2 * (t_alpha * np.sqrt(2 * Var_avg) + t_beta * np.sqrt(Var_A + Var_B)) ** 2\n",
    "N = int(np.ceil(N))\n",
    "N"
   ]
  },
  {
   "cell_type": "markdown",
   "id": "97a37dd1",
   "metadata": {},
   "source": [
    "## Test Hypothesis for 10 times"
   ]
  },
  {
   "cell_type": "code",
   "execution_count": 10,
   "id": "95b2b690",
   "metadata": {},
   "outputs": [],
   "source": [
    "def random_sample(data, size, random_seeds):\n",
    "    control_sample = data[data['Variant'] == 'A'].sample(n=size, random_state=random_seeds)\n",
    "    treat_sample = data[data['Variant'] == 'B'].sample(n=size, random_state=random_seeds)\n",
    "    ab_test = ab_test = pd.concat([control_sample, treat_sample], axis=0)\n",
    "    \n",
    "    return ab_test"
   ]
  },
  {
   "cell_type": "code",
   "execution_count": 11,
   "id": "8287114f",
   "metadata": {},
   "outputs": [],
   "source": [
    "def AB_test(data, size, random_seeds):\n",
    "    ab_test = random_sample(data, size, random_seeds)\n",
    "    \n",
    "    control_results = ab_test[ab_test['Variant'] == 'A']['purchase_TF']\n",
    "    treatment_results = ab_test[ab_test['Variant'] == 'B']['purchase_TF']\n",
    "    \n",
    "    n_con = control_results.count()\n",
    "    n_treat = treatment_results.count()\n",
    "    successes = [control_results.sum(), treatment_results.sum()]\n",
    "    nobs = [n_con, n_treat]\n",
    "    \n",
    "    z_stat, pval = proportions_ztest(successes, nobs=nobs)\n",
    "    (lower_con, lower_treat), (upper_con, upper_treat) = proportion_confint(successes, nobs=nobs, alpha=0.05)\n",
    "\n",
    "    print(f'z statistic: {z_stat:.2f}')\n",
    "    print(f'p-value: {pval:.3f}')\n",
    "    print(f'ci 95% for control group: [{lower_con:.3f}, {upper_con:.3f}]')\n",
    "    print(f'ci 95% for treatment group: [{lower_treat:.3f}, {upper_treat:.3f}]')"
   ]
  },
  {
   "cell_type": "code",
   "execution_count": 12,
   "id": "e7fe97cf",
   "metadata": {},
   "outputs": [
    {
     "name": "stdout",
     "output_type": "stream",
     "text": [
      "Result for Test 0\n",
      "\n",
      "z statistic: -1.89\n",
      "p-value: 0.059\n",
      "ci 95% for control group: [0.144, 0.171]\n",
      "ci 95% for treatment group: [0.162, 0.189]\n",
      "\n",
      "Result for Test 1\n",
      "\n",
      "z statistic: -1.98\n",
      "p-value: 0.048\n",
      "ci 95% for control group: [0.141, 0.167]\n",
      "ci 95% for treatment group: [0.159, 0.186]\n",
      "\n",
      "Result for Test 2\n",
      "\n",
      "z statistic: -2.43\n",
      "p-value: 0.015\n",
      "ci 95% for control group: [0.140, 0.166]\n",
      "ci 95% for treatment group: [0.162, 0.190]\n",
      "\n",
      "Result for Test 3\n",
      "\n",
      "z statistic: -2.36\n",
      "p-value: 0.018\n",
      "ci 95% for control group: [0.145, 0.171]\n",
      "ci 95% for treatment group: [0.167, 0.195]\n",
      "\n",
      "Result for Test 4\n",
      "\n",
      "z statistic: -3.13\n",
      "p-value: 0.002\n",
      "ci 95% for control group: [0.137, 0.162]\n",
      "ci 95% for treatment group: [0.166, 0.194]\n",
      "\n",
      "Result for Test 5\n",
      "\n",
      "z statistic: -3.03\n",
      "p-value: 0.002\n",
      "ci 95% for control group: [0.136, 0.161]\n",
      "ci 95% for treatment group: [0.164, 0.192]\n",
      "\n",
      "Result for Test 6\n",
      "\n",
      "z statistic: -1.26\n",
      "p-value: 0.209\n",
      "ci 95% for control group: [0.148, 0.175]\n",
      "ci 95% for treatment group: [0.160, 0.187]\n",
      "\n",
      "Result for Test 7\n",
      "\n",
      "z statistic: -3.18\n",
      "p-value: 0.001\n",
      "ci 95% for control group: [0.139, 0.165]\n",
      "ci 95% for treatment group: [0.169, 0.196]\n",
      "\n",
      "Result for Test 8\n",
      "\n",
      "z statistic: -2.83\n",
      "p-value: 0.005\n",
      "ci 95% for control group: [0.135, 0.161]\n",
      "ci 95% for treatment group: [0.162, 0.189]\n",
      "\n",
      "Result for Test 9\n",
      "\n",
      "z statistic: -3.10\n",
      "p-value: 0.002\n",
      "ci 95% for control group: [0.135, 0.161]\n",
      "ci 95% for treatment group: [0.164, 0.192]\n",
      "\n"
     ]
    }
   ],
   "source": [
    "for i in range(10):\n",
    "    print('Result for Test', i)\n",
    "    print()\n",
    "    AB_test(df, N, i)\n",
    "    print()"
   ]
  },
  {
   "cell_type": "markdown",
   "id": "47410c98",
   "metadata": {},
   "source": [
    "# Q3\n",
    "## Sequential Test"
   ]
  },
  {
   "cell_type": "code",
   "execution_count": 13,
   "id": "a804bef1",
   "metadata": {},
   "outputs": [
    {
     "name": "stdout",
     "output_type": "stream",
     "text": [
      "2.995732273553991 -1.6094379124341003\n"
     ]
    }
   ],
   "source": [
    "ln_A = np.log(1/0.05)\n",
    "ln_B = np.log(0.2)\n",
    "\n",
    "print(ln_A, ln_B)"
   ]
  },
  {
   "cell_type": "code",
   "execution_count": 14,
   "id": "825dddb0",
   "metadata": {},
   "outputs": [
    {
     "data": {
      "text/html": [
       "<div>\n",
       "<style scoped>\n",
       "    .dataframe tbody tr th:only-of-type {\n",
       "        vertical-align: middle;\n",
       "    }\n",
       "\n",
       "    .dataframe tbody tr th {\n",
       "        vertical-align: top;\n",
       "    }\n",
       "\n",
       "    .dataframe thead th {\n",
       "        text-align: right;\n",
       "    }\n",
       "</style>\n",
       "<table border=\"1\" class=\"dataframe\">\n",
       "  <thead>\n",
       "    <tr style=\"text-align: right;\">\n",
       "      <th></th>\n",
       "      <th>purchase_TF</th>\n",
       "      <th>total</th>\n",
       "      <th>rate</th>\n",
       "      <th>std</th>\n",
       "    </tr>\n",
       "    <tr>\n",
       "      <th>Variant</th>\n",
       "      <th></th>\n",
       "      <th></th>\n",
       "      <th></th>\n",
       "      <th></th>\n",
       "    </tr>\n",
       "  </thead>\n",
       "  <tbody>\n",
       "    <tr>\n",
       "      <th>A</th>\n",
       "      <td>18702</td>\n",
       "      <td>125000</td>\n",
       "      <td>0.149616</td>\n",
       "      <td>0.356696</td>\n",
       "    </tr>\n",
       "    <tr>\n",
       "      <th>B</th>\n",
       "      <td>883</td>\n",
       "      <td>5000</td>\n",
       "      <td>0.176600</td>\n",
       "      <td>0.381368</td>\n",
       "    </tr>\n",
       "  </tbody>\n",
       "</table>\n",
       "</div>"
      ],
      "text/plain": [
       "         purchase_TF   total      rate       std\n",
       "Variant                                         \n",
       "A              18702  125000  0.149616  0.356696\n",
       "B                883    5000  0.176600  0.381368"
      ]
     },
     "execution_count": 14,
     "metadata": {},
     "output_type": "execute_result"
    }
   ],
   "source": [
    "summary"
   ]
  },
  {
   "cell_type": "code",
   "execution_count": 15,
   "id": "5ec372b5",
   "metadata": {},
   "outputs": [],
   "source": [
    "def stopping(x):\n",
    "    if x >= ln_A:\n",
    "        print(\"Accept H_1 with lambda\", x)\n",
    "        return True\n",
    "    if x <= ln_B:\n",
    "        print(\"Accept H_2 with lambda\", x)\n",
    "        return True\n",
    "    return False"
   ]
  },
  {
   "cell_type": "code",
   "execution_count": 18,
   "id": "3465e778",
   "metadata": {},
   "outputs": [
    {
     "name": "stdout",
     "output_type": "stream",
     "text": [
      "Accept H_2 with lambda -1.6264387266907763\n",
      "Stop at iteration 1281\n",
      "\n",
      "Accept H_2 with lambda -1.6197172023604345\n",
      "Stop at iteration 233\n",
      "\n",
      "Accept H_2 with lambda -1.636801386846481\n",
      "Stop at iteration 160\n",
      "\n",
      "Accept H_2 with lambda -1.6143446944761173\n",
      "Stop at iteration 337\n",
      "\n",
      "Accept H_2 with lambda -1.639364115234294\n",
      "Stop at iteration 589\n",
      "\n",
      "Accept H_1 with lambda 2.9966362296924594\n",
      "Stop at iteration 427\n",
      "\n",
      "Accept H_2 with lambda -1.6358798275147926\n",
      "Stop at iteration 546\n",
      "\n",
      "Accept H_2 with lambda -1.6347112170743856\n",
      "Stop at iteration 1894\n",
      "\n",
      "Accept H_2 with lambda -1.6260563710778524\n",
      "Stop at iteration 368\n",
      "\n",
      "Accept H_2 with lambda -1.629923014410272\n",
      "Stop at iteration 1324\n",
      "\n"
     ]
    }
   ],
   "source": [
    "for i in range(10):\n",
    "    sample = random_sample(df, N, i)\n",
    "    lam = 0\n",
    "    for j in range(len(sample)):\n",
    "        if sample['purchase_TF'].iloc[j] == 0:\n",
    "            update = np.log((1-0.177)/(1-0.15))\n",
    "        else:\n",
    "            update = np.log(0.177/0.15)\n",
    "            \n",
    "        lam += update\n",
    "        if stopping(lam):\n",
    "            print(\"Stop at iteration\", j)\n",
    "            print()\n",
    "            break\n"
   ]
  },
  {
   "cell_type": "code",
   "execution_count": null,
   "id": "523cbb83",
   "metadata": {},
   "outputs": [],
   "source": []
  }
 ],
 "metadata": {
  "kernelspec": {
   "display_name": "Python 3 (ipykernel)",
   "language": "python",
   "name": "python3"
  },
  "language_info": {
   "codemirror_mode": {
    "name": "ipython",
    "version": 3
   },
   "file_extension": ".py",
   "mimetype": "text/x-python",
   "name": "python",
   "nbconvert_exporter": "python",
   "pygments_lexer": "ipython3",
   "version": "3.9.13"
  }
 },
 "nbformat": 4,
 "nbformat_minor": 5
}
